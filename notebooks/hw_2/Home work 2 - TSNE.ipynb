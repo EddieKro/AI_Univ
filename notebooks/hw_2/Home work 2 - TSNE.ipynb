{
 "cells": [
  {
   "cell_type": "markdown",
   "metadata": {},
   "source": [
    "# Home work 2 \n",
    "\n",
    "[Dataset](https://www.kaggle.com/danielgrijalvas/movies/version/2)\n",
    "\n",
    "\n",
    "## Evaluation\n",
    "\n",
    "1. Preprocessing of dataset, explaination what column do you use, why, In you skip any column explain why. Please analize usage of [CountVectorizer](http://scikit-learn.org/stable/modules/generated/sklearn.feature_extraction.text.CountVectorizer.html) and/or [TF-IDF Vectorizer](http://scikit-learn.org/stable/modules/generated/sklearn.feature_extraction.text.TfidfVectorizer.html).You allow to use external sources. \n",
    "2. K-means. Find the best param: number of clusters `n_clusters` (train muptiple models choose the best one). Show that you trained at least two k-means models (train kmeans for dataset with features received by CountVectorizer/TF-IDF Vectorizer and without).\n",
    "3. Visualize cluster for the best model (2D case, you are allowed to use t-SNE or PCA if you want, not compulsory though)\n",
    "4. DBScan. Find the best params: epsilon `eps` and minimum number of samples `min_samples`(train muptiple models choose the best one). Show that you trained at least two dbscan models (train dbscan for dataset with features received by CountVectorizer/TF-IDF Vectorizer and without)\n",
    "5. Visualize clusters for the best model (2D case, you are allowed to use t-SNE or PCA if you want, not compulsory though)\n",
    "6. Summary for both approaches (describe the model accuracy, performance, score, etc.)\n",
    "\n",
    "## Additional Info\n",
    "\n",
    "Sklearn K-means class has property - `inertia_` sum of squared distances of samples to their closest cluster center. Could be used for comparison.\n",
    "\n",
    "[Here](https://scikit-learn.org/stable/auto_examples/cluster/plot_mini_batch_kmeans.html#sphx-glr-auto-examples-cluster-plot-mini-batch-kmeans-py) is example how you can compare two clustering approaches\n",
    "\n",
    "[Silhouette score](https://scikit-learn.org/stable/modules/generated/sklearn.metrics.silhouette_score.html#sklearn.metrics.silhouette_score)- method of interpretation and validation of consistency within clusters of data [from wiki](https://en.wikipedia.org/wiki/Silhouette_(clustering))\n",
    "\n",
    "t-SNE - method to reduce the dimensionality down to 2 dimenions, check the [kaggle kernel](https://www.kaggle.com/ffisegydd/cluster-analysis-of-movies-data) for example\n",
    "\n",
    "## Submit\n",
    "\n",
    "Two options for submition: via email or on [distedu.ukma.edu.ua](https://distedu.ukma.edu.ua/course/view.php?id=32)\n",
    "\n",
    "You should submit jupyter notebook by Sunday, November 18th till 11:55 pm EEST timezone.\n",
    "\n",
    "\n",
    "## Bonus points\n",
    "\n",
    "Hierarchical clustering. Find best params. Dendogram and explanation.\n",
    "Try all four merge strategies (complete, average, single linkages and ward criteria)\n",
    "(8 points)\n"
   ]
  },
  {
   "cell_type": "markdown",
   "metadata": {},
   "source": [
    "\n",
    "# Step1: Initialization, reading input\n"
   ]
  },
  {
   "cell_type": "code",
   "execution_count": null,
   "metadata": {},
   "outputs": [],
   "source": [
    "import pandas as pd\n",
    "import numpy as np\n",
    "import seaborn as sns\n",
    "import re \n",
    "import time\n",
    "\n",
    "from sklearn.cluster import KMeans\n",
    "from sklearn.feature_extraction.text import CountVectorizer\n",
    "from sklearn.feature_extraction.text import TfidfVectorizer\n",
    "from sklearn import preprocessing\n",
    "from sklearn.pipeline import Pipeline\n",
    "from sklearn.preprocessing import StandardScaler\n",
    "\n",
    "import plotly.graph_objs as go\n",
    "from plotly.offline import init_notebook_mode,iplot\n",
    "from matplotlib import pyplot as plt\n",
    "from sklearn.manifold import TSNE\n",
    "\n",
    "%matplotlib inline"
   ]
  },
  {
   "cell_type": "code",
   "execution_count": 2,
   "metadata": {},
   "outputs": [],
   "source": [
    "temp_data = pd.read_csv(\"movies.csv\")"
   ]
  },
  {
   "cell_type": "markdown",
   "metadata": {},
   "source": [
    "\n",
    "# Step2: Data exploration & preprocessing"
   ]
  },
  {
   "cell_type": "markdown",
   "metadata": {},
   "source": [
    "### Simple exploration:"
   ]
  },
  {
   "cell_type": "code",
   "execution_count": 3,
   "metadata": {
    "scrolled": false
   },
   "outputs": [
    {
     "name": "stdout",
     "output_type": "stream",
     "text": [
      "<class 'pandas.core.frame.DataFrame'>\n",
      "RangeIndex: 6820 entries, 0 to 6819\n",
      "Data columns (total 15 columns):\n",
      "budget      6820 non-null float64\n",
      "company     6820 non-null object\n",
      "country     6820 non-null object\n",
      "director    6820 non-null object\n",
      "genre       6820 non-null object\n",
      "gross       6820 non-null float64\n",
      "name        6820 non-null object\n",
      "rating      6820 non-null object\n",
      "released    6820 non-null object\n",
      "runtime     6820 non-null int64\n",
      "score       6820 non-null float64\n",
      "star        6820 non-null object\n",
      "votes       6820 non-null int64\n",
      "writer      6820 non-null object\n",
      "year        6820 non-null int64\n",
      "dtypes: float64(3), int64(3), object(9)\n",
      "memory usage: 799.3+ KB\n"
     ]
    }
   ],
   "source": [
    "temp_data.info()"
   ]
  },
  {
   "cell_type": "markdown",
   "metadata": {},
   "source": [
    "No nulls, everything except object-typed values seems OK.<br>\n",
    "Let's check how many unique values each category has"
   ]
  },
  {
   "cell_type": "code",
   "execution_count": 4,
   "metadata": {
    "scrolled": true
   },
   "outputs": [
    {
     "data": {
      "text/plain": [
       "<matplotlib.axes._subplots.AxesSubplot at 0x21559fb8390>"
      ]
     },
     "execution_count": 4,
     "metadata": {},
     "output_type": "execute_result"
    },
    {
     "data": {
      "image/png": "[encoded data removed]",
      "text/plain": [
       "<Figure size 432x288 with 1 Axes>"
      ]
     },
     "metadata": {},
     "output_type": "display_data"
    }
   ],
   "source": [
    "temp_data.nunique().plot.bar()"
   ]
  },
  {
   "cell_type": "markdown",
   "metadata": {},
   "source": [
    "Some features have pretty low amount of unique values (genre, country, year). Others(vote, name, gross) are almost all unique.<br>\n",
    "Let's look how unique values are distributed among different categories(company/country/genre/rating)"
   ]
  },
  {
   "cell_type": "code",
   "execution_count": 5,
   "metadata": {},
   "outputs": [],
   "source": [
    "#\"plotting+\" func\n",
    "def show_dist(series,title,threshold):\n",
    "    temp,cnt,num = pd.Series(),0,0\n",
    "    #not really effective, but the idea was to create that 'other' category\n",
    "    for i in series.index:\n",
    "        if series[i]<threshold:\n",
    "            num+=series[i]\n",
    "            cnt+=1\n",
    "        else:\n",
    "            temp[i]=series[i]\n",
    "    temp['Other'] = num\n",
    "    text = \"Index 'Other' contains \"+str(cnt)+\" indexes\"\n",
    "    plt.figure(1,figsize=(8,8))\n",
    "    plt.bar(temp.index,temp.values)\n",
    "    plt.suptitle(title+'\\n'+text)\n",
    "    #plt.xlabel(text)\n",
    "    plt.xticks(rotation='vertical')\n",
    "    plt.show()"
   ]
  },
  {
   "cell_type": "code",
   "execution_count": 6,
   "metadata": {
    "collapsed": true
   },
   "outputs": [
    {
     "data": {
      "image/png": "[encoded data removed]",
      "text/plain": [
       "<Figure size 576x576 with 1 Axes>"
      ]
     },
     "metadata": {},
     "output_type": "display_data"
    },
    {
     "data": {
      "image/png": "[encoded data removed]",
      "text/plain": [
       "<Figure size 576x576 with 1 Axes>"
      ]
     },
     "metadata": {},
     "output_type": "display_data"
    },
    {
     "data": {
      "image/png": "[encoded data removed]",
      "text/plain": [
       "<Figure size 576x576 with 1 Axes>"
      ]
     },
     "metadata": {},
     "output_type": "display_data"
    },
    {
     "data": {
      "image/png": "[encoded data removed]",
      "text/plain": [
       "<Figure size 576x576 with 1 Axes>"
      ]
     },
     "metadata": {},
     "output_type": "display_data"
    }
   ],
   "source": [
    "categories = [\n",
    "    #category_name - category_description - threshold\n",
    "    #threshold is chosen manually\n",
    "    \n",
    "    [\"company\",\"Movies by company of production:\",200],\n",
    "    [\"country\",\"Movies by country of production:\",100],\n",
    "    [\"genre\",\"Movies by genre:\",100],\n",
    "    [\"rating\",\"Movies by rating:\",100]\n",
    "]\n",
    "for category in categories:\n",
    "    naming,title, threshold = category    \n",
    "    show_dist(temp_data[naming].value_counts(),title,threshold)\n",
    "#Wasted 2 hours on this\n",
    "#The next day I found same graphs in the dataset description on Kaggle. Ah, whatever.."
   ]
  },
  {
   "cell_type": "markdown",
   "metadata": {},
   "source": [
    "As you may see, most features with relatively few categories (i.e. rating, genre) have a \"dominant category\", which sometimes consists of more elements than all other categories of that feature.<br>\n",
    "Special category is a year, because all the values there are spread evenly<br>\n",
    "Some numerical categories (especially, score, can be normalized and transformed into categories with discrete number of values "
   ]
  },
  {
   "cell_type": "code",
   "execution_count": 7,
   "metadata": {},
   "outputs": [],
   "source": [
    "#possibly useful normalization function\n",
    "def normalize(dataframe,cols= ['budget','gross','runtime','score','votes']):\n",
    "    temp = pd.DataFrame(preprocessing.MinMaxScaler().fit_transform(dataframe[cols]))\n",
    "    dataframe[cols] = temp\n",
    "    return dataframe"
   ]
  },
  {
   "cell_type": "code",
   "execution_count": 8,
   "metadata": {},
   "outputs": [
    {
     "data": {
      "text/html": [
       "<div>\n",
       "<style scoped>\n",
       "    .dataframe tbody tr th:only-of-type {\n",
       "        vertical-align: middle;\n",
       "    }\n",
       "\n",
       "    .dataframe tbody tr th {\n",
       "        vertical-align: top;\n",
       "    }\n",
       "\n",
       "    .dataframe thead th {\n",
       "        text-align: right;\n",
       "    }\n",
       "</style>\n",
       "<table border=\"1\" class=\"dataframe\">\n",
       "  <thead>\n",
       "    <tr style=\"text-align: right;\">\n",
       "      <th></th>\n",
       "      <th>budget</th>\n",
       "      <th>company</th>\n",
       "      <th>country</th>\n",
       "      <th>director</th>\n",
       "      <th>genre</th>\n",
       "      <th>gross</th>\n",
       "      <th>name</th>\n",
       "      <th>rating</th>\n",
       "      <th>released</th>\n",
       "      <th>runtime</th>\n",
       "      <th>score</th>\n",
       "      <th>star</th>\n",
       "      <th>votes</th>\n",
       "      <th>writer</th>\n",
       "      <th>year</th>\n",
       "    </tr>\n",
       "  </thead>\n",
       "  <tbody>\n",
       "    <tr>\n",
       "      <th>0</th>\n",
       "      <td>0.026667</td>\n",
       "      <td>Columbia Pictures Corporation</td>\n",
       "      <td>USA</td>\n",
       "      <td>Rob Reiner</td>\n",
       "      <td>Adventure</td>\n",
       "      <td>0.055823</td>\n",
       "      <td>Stand by Me</td>\n",
       "      <td>R</td>\n",
       "      <td>1986-08-22</td>\n",
       "      <td>0.123418</td>\n",
       "      <td>0.846154</td>\n",
       "      <td>Wil Wheaton</td>\n",
       "      <td>0.160690</td>\n",
       "      <td>Stephen King</td>\n",
       "      <td>1986</td>\n",
       "    </tr>\n",
       "    <tr>\n",
       "      <th>1</th>\n",
       "      <td>0.020000</td>\n",
       "      <td>Paramount Pictures</td>\n",
       "      <td>USA</td>\n",
       "      <td>John Hughes</td>\n",
       "      <td>Comedy</td>\n",
       "      <td>0.074879</td>\n",
       "      <td>Ferris Bueller's Day Off</td>\n",
       "      <td>PG-13</td>\n",
       "      <td>1986-06-11</td>\n",
       "      <td>0.167722</td>\n",
       "      <td>0.807692</td>\n",
       "      <td>Matthew Broderick</td>\n",
       "      <td>0.142194</td>\n",
       "      <td>John Hughes</td>\n",
       "      <td>1986</td>\n",
       "    </tr>\n",
       "    <tr>\n",
       "      <th>2</th>\n",
       "      <td>0.050000</td>\n",
       "      <td>Paramount Pictures</td>\n",
       "      <td>USA</td>\n",
       "      <td>Tony Scott</td>\n",
       "      <td>Action</td>\n",
       "      <td>0.191959</td>\n",
       "      <td>Top Gun</td>\n",
       "      <td>PG</td>\n",
       "      <td>1986-05-16</td>\n",
       "      <td>0.189873</td>\n",
       "      <td>0.692308</td>\n",
       "      <td>Tom Cruise</td>\n",
       "      <td>0.127244</td>\n",
       "      <td>Jim Cash</td>\n",
       "      <td>1986</td>\n",
       "    </tr>\n",
       "    <tr>\n",
       "      <th>3</th>\n",
       "      <td>0.061667</td>\n",
       "      <td>Twentieth Century Fox Film Corporation</td>\n",
       "      <td>USA</td>\n",
       "      <td>James Cameron</td>\n",
       "      <td>Action</td>\n",
       "      <td>0.090919</td>\n",
       "      <td>Aliens</td>\n",
       "      <td>R</td>\n",
       "      <td>1986-07-18</td>\n",
       "      <td>0.275316</td>\n",
       "      <td>0.884615</td>\n",
       "      <td>Sigourney Weaver</td>\n",
       "      <td>0.290134</td>\n",
       "      <td>James Cameron</td>\n",
       "      <td>1986</td>\n",
       "    </tr>\n",
       "    <tr>\n",
       "      <th>4</th>\n",
       "      <td>0.030000</td>\n",
       "      <td>Walt Disney Pictures</td>\n",
       "      <td>USA</td>\n",
       "      <td>Randal Kleiser</td>\n",
       "      <td>Adventure</td>\n",
       "      <td>0.019820</td>\n",
       "      <td>Flight of the Navigator</td>\n",
       "      <td>PG</td>\n",
       "      <td>1986-08-01</td>\n",
       "      <td>0.126582</td>\n",
       "      <td>0.692308</td>\n",
       "      <td>Joey Cramer</td>\n",
       "      <td>0.019665</td>\n",
       "      <td>Mark H. Baker</td>\n",
       "      <td>1986</td>\n",
       "    </tr>\n",
       "  </tbody>\n",
       "</table>\n",
       "</div>"
      ],
      "text/plain": [
       "     budget                                 company country        director  \\\n",
       "0  0.026667           Columbia Pictures Corporation     USA      Rob Reiner   \n",
       "1  0.020000                      Paramount Pictures     USA     John Hughes   \n",
       "2  0.050000                      Paramount Pictures     USA      Tony Scott   \n",
       "3  0.061667  Twentieth Century Fox Film Corporation     USA   James Cameron   \n",
       "4  0.030000                    Walt Disney Pictures     USA  Randal Kleiser   \n",
       "\n",
       "       genre     gross                      name rating    released   runtime  \\\n",
       "0  Adventure  0.055823               Stand by Me      R  1986-08-22  0.123418   \n",
       "1     Comedy  0.074879  Ferris Bueller's Day Off  PG-13  1986-06-11  0.167722   \n",
       "2     Action  0.191959                   Top Gun     PG  1986-05-16  0.189873   \n",
       "3     Action  0.090919                    Aliens      R  1986-07-18  0.275316   \n",
       "4  Adventure  0.019820   Flight of the Navigator     PG  1986-08-01  0.126582   \n",
       "\n",
       "      score               star     votes         writer  year  \n",
       "0  0.846154        Wil Wheaton  0.160690   Stephen King  1986  \n",
       "1  0.807692  Matthew Broderick  0.142194    John Hughes  1986  \n",
       "2  0.692308         Tom Cruise  0.127244       Jim Cash  1986  \n",
       "3  0.884615   Sigourney Weaver  0.290134  James Cameron  1986  \n",
       "4  0.692308        Joey Cramer  0.019665  Mark H. Baker  1986  "
      ]
     },
     "execution_count": 8,
     "metadata": {},
     "output_type": "execute_result"
    }
   ],
   "source": [
    "#let's test a function. We'll be using: budget,gross,runtime,score,votes\n",
    "#columns = ['budget','gross','runtime','score']\n",
    "test_df_normalized = normalize(temp_data)\n",
    "test_df_normalized.head()\n",
    "#seems legit"
   ]
  },
  {
   "cell_type": "markdown",
   "metadata": {},
   "source": [
    "Certain columns should be tf-idf vectorized, others may simply be grouped by<br>\n",
    "We won't group by 'director','star','writer'.In my opinion, it makes no sense:<br>\n",
    "- firstly, I don't see any logic behind building tf-idf word matrices by person's separate name and surname. Imagine we have Tony Scott, Ridley Scott and Tony Kaye. Each of them is a director, shares name or surname with another, yet their movies are absolutely different. \n",
    "- secondly, there are simply too many unique values. Adding them all will extend our model with thousands of extra features of questionable quality."
   ]
  },
  {
   "cell_type": "markdown",
   "metadata": {},
   "source": [
    "In fact, I don't see any sense to group any column by words: let's look at a distribution of words met in a column \"company\" and then analyze a column \"name\": "
   ]
  },
  {
   "cell_type": "code",
   "execution_count": 9,
   "metadata": {},
   "outputs": [],
   "source": [
    "def explore_column_by_words(column,threshold=100):\n",
    "    #adding something to pd.Series ain't efficient at all, but its a good way to generate a new words table step by step\n",
    "    temp = pd.Series(temp_data[column].str.split())\n",
    "    #small list of words to ignore\n",
    "    stopwords = [\"the\",\"of\",\"and\",\"in\",\"to\",\"el\",\"la\",\"de\",\"a\",\"&\",\"on\",\"for\",\"2\",\"2:\",\"3\",\"4\",\"5\"]#I chose them myself\n",
    "    words = pd.Series()\n",
    "    for line in temp:\n",
    "        for word in line:\n",
    "            if word.lower() not in stopwords:\n",
    "                word = re.sub(\"[^a-zA-Z]\",\"\",word)\n",
    "                if word==\"\":\n",
    "                    continue\n",
    "                if word in words:\n",
    "                    words[word]+=1\n",
    "                else:\n",
    "                    words[word]=1\n",
    "    print(\"Total words:\", words.count())\n",
    "    print(\"Unique words:\",words.nunique(),\"\\n\\nWords by frequency:\\n\")\n",
    "    print(words.sort_values(ascending=False))\n",
    "    show_dist(words,\"Words by frequency\",threshold)\n"
   ]
  },
  {
   "cell_type": "code",
   "execution_count": 10,
   "metadata": {
    "collapsed": true
   },
   "outputs": [
    {
     "name": "stdout",
     "output_type": "stream",
     "text": [
      "Total words: 2503\n",
      "Unique words: 79 \n",
      "\n",
      "Words by frequency:\n",
      "\n",
      "Pictures             1838\n",
      "Films                 801\n",
      "Entertainment         720\n",
      "Productions           606\n",
      "Film                  474\n",
      "Corporation           442\n",
      "Fox                   337\n",
      "Warner                306\n",
      "Universal             305\n",
      "Bros                  301\n",
      "Columbia              282\n",
      "Paramount             273\n",
      "Century               220\n",
      "Twentieth             212\n",
      "New                   207\n",
      "Cinema                192\n",
      "Line                  186\n",
      "Company               157\n",
      "Touchstone            131\n",
      "Disney                121\n",
      "Walt                  116\n",
      "Group                 105\n",
      "MGM                   102\n",
      "MetroGoldwynMayer     101\n",
      "DreamWorks            101\n",
      "Studios                88\n",
      "TriStar                87\n",
      "International          81\n",
      "Screen                 79\n",
      "Miramax                77\n",
      "                     ... \n",
      "Casey                   1\n",
      "Butchers                1\n",
      "Goodspeed               1\n",
      "Larger                  1\n",
      "Babylon                 1\n",
      "Prod                    1\n",
      "Too                     1\n",
      "Purple                  1\n",
      "Income                  1\n",
      "Best                    1\n",
      "Brains                  1\n",
      "Be                      1\n",
      "Gentlemen               1\n",
      "Shocking                1\n",
      "Guild                   1\n",
      "Isabella                1\n",
      "Brandywine              1\n",
      "Golar                   1\n",
      "Jackson                 1\n",
      "Adults                  1\n",
      "Q                       1\n",
      "Kroupa                  1\n",
      "Garbus                  1\n",
      "Scotland                1\n",
      "Ponty                   1\n",
      "Rex                     1\n",
      "Intellectual            1\n",
      "Children                1\n",
      "LightWave               1\n",
      "Presents                1\n",
      "Length: 2503, dtype: int64\n"
     ]
    },
    {
     "data": {
      "image/png": "[encoded data removed]",
      "text/plain": [
       "<Figure size 576x576 with 1 Axes>"
      ]
     },
     "metadata": {},
     "output_type": "display_data"
    }
   ],
   "source": [
    "explore_column_by_words(\"company\")"
   ]
  },
  {
   "cell_type": "markdown",
   "metadata": {},
   "source": [
    "Most common words are \"Pictures\", \"Films\", \"Entertainment\", etc. Using tf-idf model by this words (in our task and current dataset) is senseless.<br>\n",
    "Maybe the only suitable column will be 'name'"
   ]
  },
  {
   "cell_type": "code",
   "execution_count": 13,
   "metadata": {
    "collapsed": true
   },
   "outputs": [
    {
     "name": "stdout",
     "output_type": "stream",
     "text": [
      "Total words: 6187\n",
      "Unique words: 50 \n",
      "\n",
      "Words by frequency:\n",
      "\n",
      "Man             96\n",
      "Love            81\n",
      "My              68\n",
      "I               66\n",
      "Me              58\n",
      "II              58\n",
      "Movie           53\n",
      "You             52\n",
      "with            51\n",
      "Dead            50\n",
      "Night           49\n",
      "Girl            43\n",
      "Last            42\n",
      "Life            41\n",
      "Little          41\n",
      "House           41\n",
      "Black           37\n",
      "Day             37\n",
      "Big             36\n",
      "American        35\n",
      "Good            35\n",
      "White           35\n",
      "It              34\n",
      "Mr              34\n",
      "Men             33\n",
      "World           32\n",
      "Out             32\n",
      "City            31\n",
      "Is              31\n",
      "Time            31\n",
      "                ..\n",
      "Bsico            1\n",
      "letal            1\n",
      "View             1\n",
      "Paycheck         1\n",
      "juegos           1\n",
      "perversos        1\n",
      "Matchstick       1\n",
      "Elephant         1\n",
      "Core             1\n",
      "Mexico           1\n",
      "McGuire          1\n",
      "Lizzie           1\n",
      "Holes            1\n",
      "Daredevil        1\n",
      "Machines         1\n",
      "Italian          1\n",
      "Revolutions      1\n",
      "Dogville         1\n",
      "Gentlemen        1\n",
      "Corpses          1\n",
      "Dreamcatcher     1\n",
      "Rundown          1\n",
      "Elf              1\n",
      "Freaky           1\n",
      "Throttle         1\n",
      "Earring          1\n",
      "Secondhand       1\n",
      "Grams            1\n",
      "Gale             1\n",
      "Stock            1\n",
      "Length: 6187, dtype: int64\n"
     ]
    },
    {
     "data": {
      "image/png": "[encoded data removed]",
      "text/plain": [
       "<Figure size 576x576 with 1 Axes>"
      ]
     },
     "metadata": {},
     "output_type": "display_data"
    }
   ],
   "source": [
    "#we ignored some of the most typical words and set threshold at 30\n",
    "\n",
    "explore_column_by_words(\"name\",25)"
   ]
  },
  {
   "cell_type": "markdown",
   "metadata": {},
   "source": [
    "### Feature engineering: naive approach\n",
    "Primarily, we'll assume that we don't all text fields except for 'company'\n",
    "We will generate bool features using get_dummies on 'genre' and 'rating':"
   ]
  },
  {
   "cell_type": "code",
   "execution_count": 36,
   "metadata": {},
   "outputs": [],
   "source": [
    "#Preprocessing: cleaning the data set. \n",
    "temp_data = pd.read_csv(\"movies.csv\")\n",
    "#we just drop most of text values\n",
    "temp_data.released = pd.to_datetime(temp_data.released)\n",
    "temp_data.drop(['director','name','star','country','writer','released'],axis=1,inplace=True)"
   ]
  },
  {
   "cell_type": "code",
   "execution_count": 37,
   "metadata": {
    "scrolled": true
   },
   "outputs": [],
   "source": [
    "#creating dummies for groups where tf-idf/countvectorizer are pointless\n",
    "temp_data = pd.concat([temp_data,pd.get_dummies(temp_data.genre.astype('category'))],axis=1)\n",
    "temp_data = pd.concat([temp_data,pd.get_dummies(temp_data.rating.astype('category'))],axis=1)\n",
    "\n",
    "temp_data.drop(['genre','rating'],axis=1,inplace=True)"
   ]
  },
  {
   "cell_type": "code",
   "execution_count": 16,
   "metadata": {
    "scrolled": true
   },
   "outputs": [],
   "source": [
    "#data_d - set with no vectorization except for genre&rating\n",
    "data_d = temp_data.copy()\n",
    "data_d.drop('company',axis=1,inplace=True)\n"
   ]
  },
  {
   "cell_type": "markdown",
   "metadata": {},
   "source": [
    "For the sake of curiosity, we will use tf-idf vectorizer with 'company' (around 2.5k unique words).\n",
    "We'll create additional dataframe for that. Also, we'll create a dataframe with 'company', vectorized by count-vectorizer. Then we'll run KMeans model on different dataframes and compare results using inertia\n"
   ]
  },
  {
   "cell_type": "code",
   "execution_count": 24,
   "metadata": {},
   "outputs": [],
   "source": [
    "#TF IDF vectorizer\n",
    "tfidf_vectorizer = TfidfVectorizer(\n",
    "    sublinear_tf=True,\n",
    "    strip_accents='unicode',\n",
    "    analyzer='word',\n",
    "    lowercase=True,\n",
    "    token_pattern=r'\\w{1,}',\n",
    "    stop_words='english',\n",
    "    max_features=2500,\n",
    "    min_df = 1)\n",
    "\n",
    "def tfidf_vectorize_feature(data,feature):\n",
    "    v = tfidf_vectorizer.fit_transform(data[feature])\n",
    "    tfidf_vect = pd.DataFrame(v.todense(), columns=tfidf_vectorizer.get_feature_names())\n",
    "    temp = pd.concat([data, tfidf_vect], axis=1)\n",
    "    temp.drop(feature,axis=1,inplace=True)\n",
    "    return temp"
   ]
  },
  {
   "cell_type": "code",
   "execution_count": 23,
   "metadata": {},
   "outputs": [],
   "source": [
    "#CountVectorizer\n",
    "count_vectorizer = CountVectorizer(\n",
    "    strip_accents='unicode',\n",
    "    analyzer='word',\n",
    "    lowercase=True,\n",
    "    token_pattern=r'\\w{1,}',\n",
    "    stop_words='english',\n",
    "    max_features=2500,\n",
    "    min_df = 1)\n",
    "\n",
    "def count_vectorize_feature(data,feature):\n",
    "    c = count_vectorizer.fit_transform(data[feature])\n",
    "    count_vect = pd.DataFrame(c.todense(),columns=count_vectorizer.get_feature_names())\n",
    "    temp = pd.concat([data,count_vect], axis=1)\n",
    "    temp.drop(feature,axis=1,inplace=True)\n",
    "    return temp"
   ]
  },
  {
   "cell_type": "code",
   "execution_count": 42,
   "metadata": {},
   "outputs": [],
   "source": [
    "#vectorize single feature\n",
    "data_t = tfidf_vectorize_feature(temp_data,'company')\n",
    "data_c = count_vectorize_feature(temp_data,'company')"
   ]
  },
  {
   "cell_type": "markdown",
   "metadata": {},
   "source": [
    "\n",
    "# Step3: Building K-Means model."
   ]
  },
  {
   "cell_type": "code",
   "execution_count": 26,
   "metadata": {},
   "outputs": [],
   "source": [
    "#K-Means - different num of clusters\n",
    "def kmeans_model(desc,clusters,data):\n",
    "    inertia = []\n",
    "    print(desc)\n",
    "    for i in range(2,clusters+1):\n",
    "        model = KMeans(n_clusters=i)\n",
    "        model.fit(data)\n",
    "        inertia.append(model.inertia_)\n",
    "        if i%10==0:\n",
    "            print(\"Inertia on {} clusters: {}\".format(i,model.inertia_))\n",
    "    return inertia"
   ]
  },
  {
   "cell_type": "markdown",
   "metadata": {},
   "source": [
    "### \"almost no text features\" approach"
   ]
  },
  {
   "cell_type": "code",
   "execution_count": 44,
   "metadata": {
    "scrolled": true
   },
   "outputs": [
    {
     "name": "stdout",
     "output_type": "stream",
     "text": [
      "Starter with dummies, tf-idf-ized 'company'\n",
      "Inertia on 10 clusters: 2.7484860688811126e+18\n",
      "Inertia on 20 clusters: 1.3325447011389642e+18\n",
      "Inertia on 30 clusters: 8.614824405600724e+17\n",
      "Inertia on 40 clusters: 6.403562908464607e+17\n",
      "Inertia on 50 clusters: 5.0286967614973037e+17\n",
      "Starter with dummief, countv-ized 'company'\n",
      "Inertia on 10 clusters: 2.749849066197541e+18\n",
      "Inertia on 20 clusters: 1.3330596587224942e+18\n",
      "Inertia on 30 clusters: 8.707042343487918e+17\n",
      "Inertia on 40 clusters: 6.274067966952358e+17\n",
      "Inertia on 50 clusters: 4.969134127733565e+17\n"
     ]
    }
   ],
   "source": [
    "#runs ~40mins(i5-7300HQ), inertia on every set is very similar and giant (around 1.3*10^18 for 20 clusters)\n",
    "stats_d = kmeans_model(\"Starter, only dummies\",50,data_d)#runs in couple minutes\n",
    "stats_t = kmeans_model(\"Starter with dummies, tf-idf-ized 'company'\",50,data_t)\n",
    "stats_c = kmeans_model(\"Starter with dummief, countv-ized 'company'\",50,data_c)"
   ]
  },
  {
   "cell_type": "markdown",
   "metadata": {},
   "source": [
    "### Feature engineering: everything featurized*\n",
    "\n",
    "*everything but 'released'"
   ]
  },
  {
   "cell_type": "code",
   "execution_count": 50,
   "metadata": {},
   "outputs": [],
   "source": [
    "#data preparation\n",
    "def prepare_dataset():\n",
    "    temp_data = pd.read_csv(\"movies.csv\")  \n",
    "    #temp_data.released = pd.to_datetime(temp_data.released)\n",
    "    #temp_data[['r_year','r_month','r_day']] = temp_data.released.apply(lambda x: pd.Series(x.strftime(\"%Y,%m,%d\").split(\",\")))\n",
    "\n",
    "    #getting dummies from smaller categories\n",
    "    temp_data = pd.concat([temp_data,pd.get_dummies(temp_data.genre.astype('category'))],axis=1)\n",
    "    temp_data = pd.concat([temp_data,pd.get_dummies(temp_data.rating.astype('category'))],axis=1)\n",
    "    temp_data = pd.concat([temp_data,pd.get_dummies(temp_data.year.astype('category'))],axis=1)    \n",
    "    #temp_data = pd.concat([temp_data,pd.get_dummies(temp_data.r_year.astype('category'))],axis=1)\n",
    "    \n",
    "    temp_data.drop(columns=['released','genre','rating','year'],axis=1,inplace=True)\n",
    "    return temp_data"
   ]
  },
  {
   "cell_type": "code",
   "execution_count": 28,
   "metadata": {},
   "outputs": [],
   "source": [
    "features = ['company','country','director','name','star','writer']\n",
    "data_tfd = prepare_dataset()\n",
    "\n",
    "for f in features:\n",
    "    data_tfd = tfidf_vectorize_feature(data_tfd,f)"
   ]
  },
  {
   "cell_type": "code",
   "execution_count": 45,
   "metadata": {
    "scrolled": true
   },
   "outputs": [
    {
     "name": "stdout",
     "output_type": "stream",
     "text": [
      "Starter, all features vectorized\n",
      "Inertia on 10 clusters: 2.748529066997636e+18\n",
      "Inertia on 20 clusters: 1.3400117916318536e+18\n",
      "Inertia on 30 clusters: 8.716580992446927e+17\n",
      "Inertia on 40 clusters: 6.414107928381722e+17\n",
      "Inertia on 50 clusters: 5.044264970147402e+17\n"
     ]
    }
   ],
   "source": [
    "stats_all_vect = kmeans_model(\"Starter, all features vectorized\",50,data_tfd)"
   ]
  },
  {
   "cell_type": "markdown",
   "metadata": {},
   "source": [
    "### more adequate approach:"
   ]
  },
  {
   "cell_type": "markdown",
   "metadata": {},
   "source": [
    "Now lets repeat 2 previous approaches with normalized features:\n"
   ]
  },
  {
   "cell_type": "code",
   "execution_count": null,
   "metadata": {},
   "outputs": [],
   "source": [
    "data_tfd_normalized = normalize(prepare_dataset)\n",
    "for f in features:\n",
    "    data_tfd_normalized = tfidf_vectorize_feature(data_tfd_normalized,f)\n"
   ]
  },
  {
   "cell_type": "code",
   "execution_count": null,
   "metadata": {},
   "outputs": [],
   "source": [
    "data_tfd_normalized.head()"
   ]
  },
  {
   "cell_type": "code",
   "execution_count": 46,
   "metadata": {
    "scrolled": false
   },
   "outputs": [
    {
     "name": "stdout",
     "output_type": "stream",
     "text": [
      "Normalized set\n",
      "Inertia on 10 clusters: 27963.21365206909\n",
      "Inertia on 20 clusters: 26670.18770438666\n",
      "Inertia on 30 clusters: 25839.625499081725\n",
      "Inertia on 40 clusters: 25523.85550936234\n",
      "Inertia on 50 clusters: 25191.060694315413\n"
     ]
    }
   ],
   "source": [
    "stats_tfd_normalized = kmeans_model(\"Normalized set\",50,data_tfd_normalized) #runs for another 30 mins."
   ]
  },
  {
   "cell_type": "code",
   "execution_count": 54,
   "metadata": {
    "scrolled": false
   },
   "outputs": [],
   "source": [
    "#let's try scaler instead of our normalization\n",
    "data = prepare_dataset()\n",
    "for f in features:\n",
    "    data = tfidf_vectorize_feature(data,f)\n",
    "\n",
    "pipeline = Pipeline([('scale', StandardScaler())])\n",
    "tfd_scaled = pipeline.fit_transform(data)"
   ]
  },
  {
   "cell_type": "code",
   "execution_count": null,
   "metadata": {
    "scrolled": true
   },
   "outputs": [
    {
     "name": "stdout",
     "output_type": "stream",
     "text": [
      "StandardlyScaled set\n",
      "Inertia on 10 clusters: 27823.169699275626\n",
      "Inertia on 20 clusters: 26602.967411147692\n"
     ]
    }
   ],
   "source": [
    "stats_tfd_scaled = kmeans_model(\"StandardlyScaled set\",50,data_tfd_normalized)"
   ]
  },
  {
   "cell_type": "code",
   "execution_count": null,
   "metadata": {},
   "outputs": [],
   "source": [
    "plt.figure(1,figsize=(12,12))\n",
    "plt.plot(stats_d,label='only dummies')\n",
    "plt.plot(stats_t,label='only one feature tf-idf-ized')\n",
    "plt.plot(stats_c,label='only one feature tf-idf-ized')\n",
    "\n",
    "plt.plot(stats_all_vect,label=\"all features vectorized\")\n",
    "plt.plot(stats_tfd_normalized,label='all features vectorized and normalized')\n",
    "plt.plot(stats_tfd_scaled,label='all features vectorized and scaled standardly')\n",
    "\n",
    "plt.legend()"
   ]
  },
  {
   "cell_type": "markdown",
   "metadata": {},
   "source": [
    "Via elbow method, `n_clusters` = 4 seems optimal"
   ]
  },
  {
   "cell_type": "code",
   "execution_count": null,
   "metadata": {},
   "outputs": [],
   "source": [
    "plt.plot(stats_tfd_normalized,label='all features vectorized and normalized')\n",
    "plt.plot(stats_tfd_scaled,label='all features vectorized and scaled standardly')\n",
    "plt.legend()"
   ]
  },
  {
   "cell_type": "markdown",
   "metadata": {},
   "source": [
    "## Visualization: t-SNE\n",
    "\n",
    "we'll use plotly"
   ]
  },
  {
   "cell_type": "code",
   "execution_count": null,
   "metadata": {},
   "outputs": [],
   "source": [
    "def perform_tsne(clusters,data):\n",
    "    model = KMeans(n_clusters=clusters)\n",
    "    model.fit(data)\n",
    "    start = time.time()\n",
    "    pred = model.fit_predict(data)\n",
    "    t1 = time.time()-start #seconds to compute pred\n",
    "    print(\"tsne fitted in {} seconds\".format(t1))\n",
    "    tsne = TSNE()#default components num\n",
    "    start = time.time()\n",
    "    tsne_fit = tsne.fit_transform(data)\n",
    "    t2 = time.time()-start()#seconds to fit-transform via t-SNE\n",
    "    print(\"tsne fitted in {} seconds\".format(t2))\n",
    "    plot_tsne"
   ]
  },
  {
   "cell_type": "code",
   "execution_count": null,
   "metadata": {},
   "outputs": [],
   "source": [
    "init_notebook_mode(connected=True)\n",
    "def plot_tsne(fit,pred):#pred is for colors\n",
    "    \n",
    "    trace = go.Scatter(\n",
    "        x=tsne_fit.T[0], \n",
    "        y=tsne_fit.T[1],\n",
    "        mode='markers',\n",
    "        text=name,\n",
    "        textposition='top center',\n",
    "        name='Lines, Markers and Text',\n",
    "        marker=dict(\n",
    "            color = pred, \n",
    "            colorscale='Portland',\n",
    "            showscale=True\n",
    "        )\n",
    "        vis_data = [trace]\n",
    "    layout = go.Layout(\n",
    "    showlegend=False)\n",
    "    visualization = go.Figure(data=data, layout=layout)\n",
    "    iplot(visualization)"
   ]
  },
  {
   "cell_type": "markdown",
   "metadata": {},
   "source": [
    "# Step 4: DBScan"
   ]
  },
  {
   "cell_type": "code",
   "execution_count": null,
   "metadata": {},
   "outputs": [],
   "source": []
  },
  {
   "cell_type": "markdown",
   "metadata": {},
   "source": [
    "## Visualization: PCA"
   ]
  },
  {
   "cell_type": "code",
   "execution_count": null,
   "metadata": {},
   "outputs": [],
   "source": []
  },
  {
   "cell_type": "markdown",
   "metadata": {},
   "source": [
    "# Summary"
   ]
  },
  {
   "cell_type": "code",
   "execution_count": null,
   "metadata": {},
   "outputs": [],
   "source": []
  },
  {
   "cell_type": "markdown",
   "metadata": {},
   "source": [
    "# Bonus: Hierarchical clustering"
   ]
  },
  {
   "cell_type": "code",
   "execution_count": 71,
   "metadata": {},
   "outputs": [],
   "source": [
    "#cluster visualization for rbest\n",
    "#DBscan, visualization\n",
    "#Summary\n"
   ]
  }
 ],
 "metadata": {
  "kernelspec": {
   "display_name": "Python [default]",
   "language": "python",
   "name": "python3"
  },
  "language_info": {
   "codemirror_mode": {
    "name": "ipython",
    "version": 3
   },
   "file_extension": ".py",
   "mimetype": "text/x-python",
   "name": "python",
   "nbconvert_exporter": "python",
   "pygments_lexer": "ipython3",
   "version": "3.6.5"
  }
 },
 "nbformat": 4,
 "nbformat_minor": 2
}
