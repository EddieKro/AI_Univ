{
 "cells": [
  {
   "cell_type": "markdown",
   "metadata": {},
   "source": [
    "# Pandas\n",
    "\n",
    "## DataFrame"
   ]
  },
  {
   "cell_type": "code",
   "execution_count": 1,
   "metadata": {},
   "outputs": [],
   "source": [
    "import pandas as pd"
   ]
  },
  {
   "cell_type": "code",
   "execution_count": 2,
   "metadata": {},
   "outputs": [
    {
     "name": "stdout",
     "output_type": "stream",
     "text": [
      "   numbers chars\n",
      "0        0     a\n",
      "1        1     a\n",
      "2        2     a\n",
      "3        3     a\n",
      "4        4     a\n",
      "5        5     a\n",
      "6        6     a\n",
      "7        7     a\n",
      "8        8     a\n",
      "9        9     a\n",
      "Index(['Name', 'Birth', 'City', 'Position'], dtype='object')\n",
      "(6, 4)\n",
      "          Name       Birth     City  Position\n",
      "Ivanov    A.A.  22.03.1980     Kyiv    driver\n",
      "Petrovsk  I.V.  07.08.1965  Kharkiv  engineer\n",
      "Boby      M.M.  13.02.1980     Lviv   manager\n",
      "Melnyk    D.C.  15.04.1985    Odesa       NaN\n",
      "Jonny     J.J.  19.11.1985  Poltava  engineer\n",
      "Oskar     C.S.  31.05.1985     Kyiv    intern\n"
     ]
    }
   ],
   "source": [
    "frame = pd.DataFrame({'numbers':range(10), 'chars':['a']*10})\n",
    "print(frame)\n",
    "frame = pd.read_csv('dataset.csv', header=0, sep=' ')\n",
    "print(frame.columns)\n",
    "print(frame.shape)\n",
    "print(frame)"
   ]
  },
  {
   "cell_type": "code",
   "execution_count": 3,
   "metadata": {},
   "outputs": [
    {
     "name": "stdout",
     "output_type": "stream",
     "text": [
      "    Name       Birth     City  Position\n",
      "0   A.A.  22.03.1980     Kyiv    driver\n",
      "1   I.V.  07.08.1965  Kharkiv  engineer\n",
      "2   M.M.  13.02.1980     Lviv   manager\n",
      "3   D.C.  15.04.1985    Odesa       NaN\n",
      "4   J.J.  19.11.1985  Poltava  engineer\n",
      "5   C.S.  31.05.1985     Kyiv    intern\n",
      "6  Perov  22.03.1990    Penza       NaN\n"
     ]
    }
   ],
   "source": [
    "# adding rows\n",
    "new_line = {'Name':'Perov', 'Birth':'22.03.1990', 'City':'Penza'}\n",
    "frame.append(new_line, ignore_index=True)\n",
    "frame = frame.append(new_line, ignore_index=True)\n",
    "print(frame)"
   ]
  },
  {
   "cell_type": "code",
   "execution_count": 4,
   "metadata": {},
   "outputs": [],
   "source": [
    "# adding column\n",
    "frame['IsStudent'] = [False]*5 + [True]*2"
   ]
  },
  {
   "cell_type": "code",
   "execution_count": 5,
   "metadata": {},
   "outputs": [
    {
     "name": "stdout",
     "output_type": "stream",
     "text": [
      "    Name       Birth     City  Position  IsStudent\n",
      "0   A.A.  22.03.1980     Kyiv    driver      False\n",
      "1   I.V.  07.08.1965  Kharkiv  engineer      False\n",
      "2   M.M.  13.02.1980     Lviv   manager      False\n",
      "3   D.C.  15.04.1985    Odesa       NaN      False\n",
      "4   J.J.  19.11.1985  Poltava  engineer      False\n",
      "5   C.S.  31.05.1985     Kyiv    intern       True\n",
      "6  Perov  22.03.1990    Penza       NaN       True\n"
     ]
    }
   ],
   "source": [
    "# delete row\n",
    "frame.drop([5,6], axis=0)\n",
    "print(frame)"
   ]
  },
  {
   "cell_type": "code",
   "execution_count": 6,
   "metadata": {},
   "outputs": [
    {
     "name": "stdout",
     "output_type": "stream",
     "text": [
      "   Name       Birth     City  Position  IsStudent\n",
      "0  A.A.  22.03.1980     Kyiv    driver      False\n",
      "1  I.V.  07.08.1965  Kharkiv  engineer      False\n",
      "2  M.M.  13.02.1980     Lviv   manager      False\n",
      "3  D.C.  15.04.1985    Odesa       NaN      False\n",
      "4  J.J.  19.11.1985  Poltava  engineer      False\n"
     ]
    }
   ],
   "source": [
    "frame.drop([5,6], axis=0, inplace=True)\n",
    "print(frame)"
   ]
  },
  {
   "cell_type": "code",
   "execution_count": 7,
   "metadata": {},
   "outputs": [
    {
     "name": "stdout",
     "output_type": "stream",
     "text": [
      "   Name       Birth     City  Position\n",
      "0  A.A.  22.03.1980     Kyiv    driver\n",
      "1  I.V.  07.08.1965  Kharkiv  engineer\n",
      "2  M.M.  13.02.1980     Lviv   manager\n",
      "3  D.C.  15.04.1985    Odesa       NaN\n",
      "4  J.J.  19.11.1985  Poltava  engineer\n"
     ]
    }
   ],
   "source": [
    "frame.drop('IsStudent', axis=1, inplace=True)\n",
    "print(frame)"
   ]
  },
  {
   "cell_type": "code",
   "execution_count": 8,
   "metadata": {},
   "outputs": [],
   "source": [
    "frame.to_csv('updated_dataset.csv', sep=',', header=True, index=False)"
   ]
  },
  {
   "cell_type": "code",
   "execution_count": 9,
   "metadata": {},
   "outputs": [
    {
     "name": "stdout",
     "output_type": "stream",
     "text": [
      "Name,Birth,City,Position\r\n",
      "A.A.,22.03.1980,Kyiv,driver\r\n",
      "I.V.,07.08.1965,Kharkiv,engineer\r\n",
      "M.M.,13.02.1980,Lviv,manager\r\n",
      "D.C.,15.04.1985,Odesa,\r\n",
      "J.J.,19.11.1985,Poltava,engineer\r\n"
     ]
    }
   ],
   "source": [
    "!cat updated_dataset.csv\n",
    "# for Windows\n",
    "#!more updated_dataset.csv"
   ]
  },
  {
   "cell_type": "code",
   "execution_count": 10,
   "metadata": {},
   "outputs": [
    {
     "name": "stdout",
     "output_type": "stream",
     "text": [
      "          Name       Birth     City  Position\n",
      "Ivanov    A.A.  22.03.1980     Kyiv    driver\n",
      "Petrovsk  I.V.  07.08.1965  Kharkiv  engineer\n",
      "Boby      M.M.  13.02.1980     Lviv   manager\n",
      "Melnyk    D.C.  15.04.1985    Odesa       NaN\n",
      "Jonny     J.J.  19.11.1985  Poltava  engineer\n",
      "Oskar     C.S.  31.05.1985     Kyiv    intern\n",
      "Name        object\n",
      "Birth       object\n",
      "City        object\n",
      "Position    object\n",
      "dtype: object\n"
     ]
    }
   ],
   "source": [
    "frame = pd.read_csv('dataset.csv', header=0, sep=' ')\n",
    "print(frame)\n",
    "print(frame.dtypes)"
   ]
  },
  {
   "cell_type": "code",
   "execution_count": 11,
   "metadata": {},
   "outputs": [
    {
     "name": "stdout",
     "output_type": "stream",
     "text": [
      "          Name      Birth     City  Position\n",
      "Ivanov    A.A. 1980-03-22     Kyiv    driver\n",
      "Petrovsk  I.V. 1965-07-08  Kharkiv  engineer\n",
      "Boby      M.M. 1980-02-13     Lviv   manager\n",
      "Melnyk    D.C. 1985-04-15    Odesa       NaN\n",
      "Jonny     J.J. 1985-11-19  Poltava  engineer\n",
      "Oskar     C.S. 1985-05-31     Kyiv    intern\n",
      "Name                object\n",
      "Birth       datetime64[ns]\n",
      "City                object\n",
      "Position            object\n",
      "dtype: object\n"
     ]
    }
   ],
   "source": [
    "frame.Birth = frame.Birth.apply(pd.to_datetime)\n",
    "print(frame)\n",
    "print(frame.dtypes)"
   ]
  },
  {
   "cell_type": "code",
   "execution_count": 12,
   "metadata": {},
   "outputs": [
    {
     "name": "stdout",
     "output_type": "stream",
     "text": [
      "<class 'pandas.core.frame.DataFrame'>\n",
      "Index: 6 entries, Ivanov to Oskar\n",
      "Data columns (total 4 columns):\n",
      "Name        6 non-null object\n",
      "Birth       6 non-null datetime64[ns]\n",
      "City        6 non-null object\n",
      "Position    5 non-null object\n",
      "dtypes: datetime64[ns](1), object(3)\n",
      "memory usage: 240.0+ bytes\n"
     ]
    }
   ],
   "source": [
    "frame.info()"
   ]
  },
  {
   "cell_type": "code",
   "execution_count": 13,
   "metadata": {},
   "outputs": [
    {
     "data": {
      "text/html": [
       "<div>\n",
       "<style scoped>\n",
       "    .dataframe tbody tr th:only-of-type {\n",
       "        vertical-align: middle;\n",
       "    }\n",
       "\n",
       "    .dataframe tbody tr th {\n",
       "        vertical-align: top;\n",
       "    }\n",
       "\n",
       "    .dataframe thead th {\n",
       "        text-align: right;\n",
       "    }\n",
       "</style>\n",
       "<table border=\"1\" class=\"dataframe\">\n",
       "  <thead>\n",
       "    <tr style=\"text-align: right;\">\n",
       "      <th></th>\n",
       "      <th>Name</th>\n",
       "      <th>Birth</th>\n",
       "      <th>City</th>\n",
       "      <th>Position</th>\n",
       "    </tr>\n",
       "  </thead>\n",
       "  <tbody>\n",
       "    <tr>\n",
       "      <th>Ivanov</th>\n",
       "      <td>A.A.</td>\n",
       "      <td>1980-03-22</td>\n",
       "      <td>Kyiv</td>\n",
       "      <td>driver</td>\n",
       "    </tr>\n",
       "    <tr>\n",
       "      <th>Petrovsk</th>\n",
       "      <td>I.V.</td>\n",
       "      <td>1965-07-08</td>\n",
       "      <td>Kharkiv</td>\n",
       "      <td>engineer</td>\n",
       "    </tr>\n",
       "    <tr>\n",
       "      <th>Boby</th>\n",
       "      <td>M.M.</td>\n",
       "      <td>1980-02-13</td>\n",
       "      <td>Lviv</td>\n",
       "      <td>manager</td>\n",
       "    </tr>\n",
       "    <tr>\n",
       "      <th>Melnyk</th>\n",
       "      <td>D.C.</td>\n",
       "      <td>1985-04-15</td>\n",
       "      <td>Odesa</td>\n",
       "      <td>worker</td>\n",
       "    </tr>\n",
       "    <tr>\n",
       "      <th>Jonny</th>\n",
       "      <td>J.J.</td>\n",
       "      <td>1985-11-19</td>\n",
       "      <td>Poltava</td>\n",
       "      <td>engineer</td>\n",
       "    </tr>\n",
       "    <tr>\n",
       "      <th>Oskar</th>\n",
       "      <td>C.S.</td>\n",
       "      <td>1985-05-31</td>\n",
       "      <td>Kyiv</td>\n",
       "      <td>intern</td>\n",
       "    </tr>\n",
       "  </tbody>\n",
       "</table>\n",
       "</div>"
      ],
      "text/plain": [
       "          Name      Birth     City  Position\n",
       "Ivanov    A.A. 1980-03-22     Kyiv    driver\n",
       "Petrovsk  I.V. 1965-07-08  Kharkiv  engineer\n",
       "Boby      M.M. 1980-02-13     Lviv   manager\n",
       "Melnyk    D.C. 1985-04-15    Odesa    worker\n",
       "Jonny     J.J. 1985-11-19  Poltava  engineer\n",
       "Oskar     C.S. 1985-05-31     Kyiv    intern"
      ]
     },
     "execution_count": 13,
     "metadata": {},
     "output_type": "execute_result"
    }
   ],
   "source": [
    "frame.fillna('worker')"
   ]
  },
  {
   "cell_type": "code",
   "execution_count": 14,
   "metadata": {},
   "outputs": [
    {
     "name": "stdout",
     "output_type": "stream",
     "text": [
      "          Name      Birth     City  Position\n",
      "Ivanov    A.A. 1980-03-22     Kyiv    driver\n",
      "Petrovsk  I.V. 1965-07-08  Kharkiv  engineer\n",
      "Boby      M.M. 1980-02-13     Lviv   manager\n",
      "Melnyk    D.C. 1985-04-15    Odesa    worker\n",
      "Jonny     J.J. 1985-11-19  Poltava  engineer\n",
      "Oskar     C.S. 1985-05-31     Kyiv    intern\n"
     ]
    }
   ],
   "source": [
    "frame.fillna('worker', inplace=True)\n",
    "print(frame)"
   ]
  },
  {
   "cell_type": "code",
   "execution_count": 15,
   "metadata": {},
   "outputs": [
    {
     "name": "stdout",
     "output_type": "stream",
     "text": [
      "Ivanov        driver\n",
      "Petrovsk    engineer\n",
      "Boby         manager\n",
      "Melnyk        worker\n",
      "Jonny       engineer\n",
      "Oskar         intern\n",
      "Name: Position, dtype: object\n",
      "          Position\n",
      "Ivanov      driver\n",
      "Petrovsk  engineer\n",
      "Boby       manager\n",
      "Melnyk      worker\n",
      "Jonny     engineer\n",
      "Oskar       intern\n",
      "          Name  Position\n",
      "Ivanov    A.A.    driver\n",
      "Petrovsk  I.V.  engineer\n",
      "Boby      M.M.   manager\n",
      "Melnyk    D.C.    worker\n",
      "Jonny     J.J.  engineer\n",
      "Oskar     C.S.    intern\n"
     ]
    }
   ],
   "source": [
    "print(frame.Position)\n",
    "print(frame[['Position']])\n",
    "print(frame[['Name', 'Position']])"
   ]
  },
  {
   "cell_type": "code",
   "execution_count": 16,
   "metadata": {},
   "outputs": [
    {
     "name": "stdout",
     "output_type": "stream",
     "text": [
      "          Name      Birth     City  Position\n",
      "Ivanov    A.A. 1980-03-22     Kyiv    driver\n",
      "Petrovsk  I.V. 1965-07-08  Kharkiv  engineer\n",
      "Boby      M.M. 1980-02-13     Lviv   manager\n",
      "        Name      Birth     City  Position\n",
      "Melnyk  D.C. 1985-04-15    Odesa    worker\n",
      "Jonny   J.J. 1985-11-19  Poltava  engineer\n",
      "Oskar   C.S. 1985-05-31     Kyiv    intern\n"
     ]
    }
   ],
   "source": [
    "print(frame[:3])\n",
    "print(frame[-3:])"
   ]
  },
  {
   "cell_type": "code",
   "execution_count": 18,
   "metadata": {},
   "outputs": [
    {
     "data": {
      "text/html": [
       "<div>\n",
       "<style scoped>\n",
       "    .dataframe tbody tr th:only-of-type {\n",
       "        vertical-align: middle;\n",
       "    }\n",
       "\n",
       "    .dataframe tbody tr th {\n",
       "        vertical-align: top;\n",
       "    }\n",
       "\n",
       "    .dataframe thead th {\n",
       "        text-align: right;\n",
       "    }\n",
       "</style>\n",
       "<table border=\"1\" class=\"dataframe\">\n",
       "  <thead>\n",
       "    <tr style=\"text-align: right;\">\n",
       "      <th></th>\n",
       "      <th>Name</th>\n",
       "      <th>Birth</th>\n",
       "    </tr>\n",
       "  </thead>\n",
       "  <tbody>\n",
       "    <tr>\n",
       "      <th>Petrovsk</th>\n",
       "      <td>I.V.</td>\n",
       "      <td>1965-07-08</td>\n",
       "    </tr>\n",
       "    <tr>\n",
       "      <th>Melnyk</th>\n",
       "      <td>D.C.</td>\n",
       "      <td>1985-04-15</td>\n",
       "    </tr>\n",
       "    <tr>\n",
       "      <th>Oskar</th>\n",
       "      <td>C.S.</td>\n",
       "      <td>1985-05-31</td>\n",
       "    </tr>\n",
       "  </tbody>\n",
       "</table>\n",
       "</div>"
      ],
      "text/plain": [
       "          Name      Birth\n",
       "Petrovsk  I.V. 1965-07-08\n",
       "Melnyk    D.C. 1985-04-15\n",
       "Oskar     C.S. 1985-05-31"
      ]
     },
     "execution_count": 18,
     "metadata": {},
     "output_type": "execute_result"
    }
   ],
   "source": [
    "frame.iloc[[1,3,5], [0,1]]"
   ]
  },
  {
   "cell_type": "code",
   "execution_count": 19,
   "metadata": {},
   "outputs": [
    {
     "data": {
      "text/html": [
       "<div>\n",
       "<style scoped>\n",
       "    .dataframe tbody tr th:only-of-type {\n",
       "        vertical-align: middle;\n",
       "    }\n",
       "\n",
       "    .dataframe tbody tr th {\n",
       "        vertical-align: top;\n",
       "    }\n",
       "\n",
       "    .dataframe thead th {\n",
       "        text-align: right;\n",
       "    }\n",
       "</style>\n",
       "<table border=\"1\" class=\"dataframe\">\n",
       "  <thead>\n",
       "    <tr style=\"text-align: right;\">\n",
       "      <th></th>\n",
       "      <th>Name</th>\n",
       "      <th>Birth</th>\n",
       "      <th>City</th>\n",
       "      <th>Position</th>\n",
       "    </tr>\n",
       "  </thead>\n",
       "  <tbody>\n",
       "    <tr>\n",
       "      <th>Melnyk</th>\n",
       "      <td>D.C.</td>\n",
       "      <td>1985-04-15</td>\n",
       "      <td>Odesa</td>\n",
       "      <td>worker</td>\n",
       "    </tr>\n",
       "    <tr>\n",
       "      <th>Jonny</th>\n",
       "      <td>J.J.</td>\n",
       "      <td>1985-11-19</td>\n",
       "      <td>Poltava</td>\n",
       "      <td>engineer</td>\n",
       "    </tr>\n",
       "    <tr>\n",
       "      <th>Oskar</th>\n",
       "      <td>C.S.</td>\n",
       "      <td>1985-05-31</td>\n",
       "      <td>Kyiv</td>\n",
       "      <td>intern</td>\n",
       "    </tr>\n",
       "  </tbody>\n",
       "</table>\n",
       "</div>"
      ],
      "text/plain": [
       "        Name      Birth     City  Position\n",
       "Melnyk  D.C. 1985-04-15    Odesa    worker\n",
       "Jonny   J.J. 1985-11-19  Poltava  engineer\n",
       "Oskar   C.S. 1985-05-31     Kyiv    intern"
      ]
     },
     "execution_count": 19,
     "metadata": {},
     "output_type": "execute_result"
    }
   ],
   "source": [
    "frame[frame.Birth >= pd.datetime(1985,1,1)]"
   ]
  },
  {
   "cell_type": "code",
   "execution_count": 20,
   "metadata": {},
   "outputs": [
    {
     "data": {
      "text/html": [
       "<div>\n",
       "<style scoped>\n",
       "    .dataframe tbody tr th:only-of-type {\n",
       "        vertical-align: middle;\n",
       "    }\n",
       "\n",
       "    .dataframe tbody tr th {\n",
       "        vertical-align: top;\n",
       "    }\n",
       "\n",
       "    .dataframe thead th {\n",
       "        text-align: right;\n",
       "    }\n",
       "</style>\n",
       "<table border=\"1\" class=\"dataframe\">\n",
       "  <thead>\n",
       "    <tr style=\"text-align: right;\">\n",
       "      <th></th>\n",
       "      <th>Name</th>\n",
       "      <th>Birth</th>\n",
       "      <th>City</th>\n",
       "      <th>Position</th>\n",
       "    </tr>\n",
       "  </thead>\n",
       "  <tbody>\n",
       "    <tr>\n",
       "      <th>Melnyk</th>\n",
       "      <td>D.C.</td>\n",
       "      <td>1985-04-15</td>\n",
       "      <td>Odesa</td>\n",
       "      <td>worker</td>\n",
       "    </tr>\n",
       "    <tr>\n",
       "      <th>Jonny</th>\n",
       "      <td>J.J.</td>\n",
       "      <td>1985-11-19</td>\n",
       "      <td>Poltava</td>\n",
       "      <td>engineer</td>\n",
       "    </tr>\n",
       "    <tr>\n",
       "      <th>Oskar</th>\n",
       "      <td>C.S.</td>\n",
       "      <td>1985-05-31</td>\n",
       "      <td>Kyiv</td>\n",
       "      <td>intern</td>\n",
       "    </tr>\n",
       "  </tbody>\n",
       "</table>\n",
       "</div>"
      ],
      "text/plain": [
       "        Name      Birth     City  Position\n",
       "Melnyk  D.C. 1985-04-15    Odesa    worker\n",
       "Jonny   J.J. 1985-11-19  Poltava  engineer\n",
       "Oskar   C.S. 1985-05-31     Kyiv    intern"
      ]
     },
     "execution_count": 20,
     "metadata": {},
     "output_type": "execute_result"
    }
   ],
   "source": [
    "frame[(frame.Birth >= pd.datetime(1985,1,1)) &\n",
    "      (frame.City != 'Kyiv')]"
   ]
  },
  {
   "cell_type": "code",
   "execution_count": 21,
   "metadata": {},
   "outputs": [
    {
     "data": {
      "text/html": [
       "<div>\n",
       "<style scoped>\n",
       "    .dataframe tbody tr th:only-of-type {\n",
       "        vertical-align: middle;\n",
       "    }\n",
       "\n",
       "    .dataframe tbody tr th {\n",
       "        vertical-align: top;\n",
       "    }\n",
       "\n",
       "    .dataframe thead th {\n",
       "        text-align: right;\n",
       "    }\n",
       "</style>\n",
       "<table border=\"1\" class=\"dataframe\">\n",
       "  <thead>\n",
       "    <tr style=\"text-align: right;\">\n",
       "      <th></th>\n",
       "      <th>Name</th>\n",
       "      <th>Birth</th>\n",
       "      <th>City</th>\n",
       "      <th>Position</th>\n",
       "    </tr>\n",
       "  </thead>\n",
       "  <tbody>\n",
       "    <tr>\n",
       "      <th>Melnyk</th>\n",
       "      <td>D.C.</td>\n",
       "      <td>1985-04-15</td>\n",
       "      <td>Odesa</td>\n",
       "      <td>worker</td>\n",
       "    </tr>\n",
       "    <tr>\n",
       "      <th>Jonny</th>\n",
       "      <td>J.J.</td>\n",
       "      <td>1985-11-19</td>\n",
       "      <td>Poltava</td>\n",
       "      <td>engineer</td>\n",
       "    </tr>\n",
       "    <tr>\n",
       "      <th>Oskar</th>\n",
       "      <td>C.S.</td>\n",
       "      <td>1985-05-31</td>\n",
       "      <td>Kyiv</td>\n",
       "      <td>intern</td>\n",
       "    </tr>\n",
       "  </tbody>\n",
       "</table>\n",
       "</div>"
      ],
      "text/plain": [
       "        Name      Birth     City  Position\n",
       "Melnyk  D.C. 1985-04-15    Odesa    worker\n",
       "Jonny   J.J. 1985-11-19  Poltava  engineer\n",
       "Oskar   C.S. 1985-05-31     Kyiv    intern"
      ]
     },
     "execution_count": 21,
     "metadata": {},
     "output_type": "execute_result"
    }
   ],
   "source": [
    "frame[(frame.Birth >= pd.datetime(1985,1,1)) |\n",
    "      (frame.City == 'Odesa')]"
   ]
  }
 ],
 "metadata": {
  "kernelspec": {
   "display_name": "Python 3",
   "language": "python",
   "name": "python3"
  },
  "language_info": {
   "codemirror_mode": {
    "name": "ipython",
    "version": 3
   },
   "file_extension": ".py",
   "mimetype": "text/x-python",
   "name": "python",
   "nbconvert_exporter": "python",
   "pygments_lexer": "ipython3",
   "version": "3.6.5"
  }
 },
 "nbformat": 4,
 "nbformat_minor": 2
}
